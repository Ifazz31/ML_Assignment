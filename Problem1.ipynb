{
  "nbformat": 4,
  "nbformat_minor": 0,
  "metadata": {
    "colab": {
      "provenance": []
    },
    "kernelspec": {
      "name": "python3",
      "display_name": "Python 3"
    },
    "language_info": {
      "name": "python"
    }
  },
  "cells": [
    {
      "cell_type": "code",
      "execution_count": 1,
      "metadata": {
        "id": "QI0A9mRetT1L"
      },
      "outputs": [],
      "source": [
        "import tensorflow as tf\n",
        "import matplotlib.pyplot as plt"
      ]
    },
    {
      "cell_type": "code",
      "source": [
        "from google.colab import drive\n",
        "drive.mount('/content/gdrive')"
      ],
      "metadata": {
        "colab": {
          "base_uri": "https://localhost:8080/"
        },
        "id": "aOGSkpMXtqzR",
        "outputId": "b80dc550-6bee-41c3-dc61-80029d7ed1ca"
      },
      "execution_count": 2,
      "outputs": [
        {
          "output_type": "stream",
          "name": "stdout",
          "text": [
            "Mounted at /content/gdrive\n"
          ]
        }
      ]
    },
    {
      "cell_type": "code",
      "source": [
        "from tensorflow.keras.preprocessing.image import ImageDataGenerator"
      ],
      "metadata": {
        "id": "Lm4JRSGgt86Q"
      },
      "execution_count": 3,
      "outputs": []
    },
    {
      "cell_type": "code",
      "source": [
        "training_dir = \"/content/gdrive/MyDrive/ML/Archive/test\"\n",
        "training_generator = ImageDataGenerator(rescale=1/255)\n",
        "data_train = training_generator.flow_from_directory(training_dir,target_size=(128,128),batch_size=8,class_mode=\"binary\")"
      ],
      "metadata": {
        "colab": {
          "base_uri": "https://localhost:8080/"
        },
        "id": "ona8kXezt_qe",
        "outputId": "20a8f139-d0de-4705-ed6f-44255f3f8e25"
      },
      "execution_count": 5,
      "outputs": [
        {
          "output_type": "stream",
          "name": "stdout",
          "text": [
            "Found 634 images belonging to 2 classes.\n"
          ]
        }
      ]
    },
    {
      "cell_type": "code",
      "source": [
        "\n",
        "valid_dir = \"/content/gdrive/MyDrive/ML/Archive/val\"\n",
        "validation_generator = ImageDataGenerator(rescale=1/255)\n",
        "data_valid = training_generator.flow_from_directory(valid_dir,target_size=(128,128),batch_size=8,class_mode=\"binary\")"
      ],
      "metadata": {
        "colab": {
          "base_uri": "https://localhost:8080/"
        },
        "id": "0tk-lonSvMAg",
        "outputId": "a1157d43-4759-4fc9-f8ac-1e7defc49f3d"
      },
      "execution_count": 6,
      "outputs": [
        {
          "output_type": "stream",
          "name": "stdout",
          "text": [
            "Found 16 images belonging to 2 classes.\n"
          ]
        }
      ]
    },
    {
      "cell_type": "code",
      "source": [
        "test_dir = \"/content/gdrive/MyDrive/ML/Archive/test\"\n",
        "test_generator = ImageDataGenerator(rescale=1/255)\n",
        "data_test = training_generator.flow_from_directory(test_dir,target_size=(128,128),batch_size=8,class_mode=\"binary\")"
      ],
      "metadata": {
        "colab": {
          "base_uri": "https://localhost:8080/"
        },
        "id": "-Y1qO2KLvm0O",
        "outputId": "18ddd08c-565f-4993-9cc8-9e41a86509ee"
      },
      "execution_count": 7,
      "outputs": [
        {
          "output_type": "stream",
          "name": "stdout",
          "text": [
            "Found 634 images belonging to 2 classes.\n"
          ]
        }
      ]
    },
    {
      "cell_type": "code",
      "source": [
        "model = tf.keras.Sequential([tf.keras.layers.Conv2D(32,(3,3),input_shape=(128,128,3), activation=\"relu\"),\n",
        "                             tf.keras.layers.MaxPooling2D(2,2),\n",
        "                             tf.keras.layers.Conv2D(64,(3,3), activation=\"relu\"),\n",
        "                             tf.keras.layers.MaxPooling2D(2,2),\n",
        "                             tf.keras.layers.Conv2D(128,(3,3), activation=\"relu\"),\n",
        "                             tf.keras.layers.MaxPooling2D(2,2),\n",
        "                             tf.keras.layers.Conv2D(256,(3,3), activation=\"relu\"),\n",
        "                             tf.keras.layers.MaxPooling2D(2,2),\n",
        "                             tf.keras.layers.Conv2D(512,(3,3), activation=\"relu\"),\n",
        "                             tf.keras.layers.Flatten(),\n",
        "                             tf.keras.layers.Dense(256,activation=\"relu\"),\n",
        "                             tf.keras.layers.Dense(1,activation=\"sigmoid\")\n",
        "                             ])\n",
        "model.summary()"
      ],
      "metadata": {
        "colab": {
          "base_uri": "https://localhost:8080/"
        },
        "id": "quPighPAv8CR",
        "outputId": "d24b6267-9e5d-47fd-8a7c-84f7d7e2d85f"
      },
      "execution_count": 9,
      "outputs": [
        {
          "output_type": "stream",
          "name": "stdout",
          "text": [
            "Model: \"sequential_1\"\n",
            "_________________________________________________________________\n",
            " Layer (type)                Output Shape              Param #   \n",
            "=================================================================\n",
            " conv2d_5 (Conv2D)           (None, 126, 126, 32)      896       \n",
            "                                                                 \n",
            " max_pooling2d_4 (MaxPoolin  (None, 63, 63, 32)        0         \n",
            " g2D)                                                            \n",
            "                                                                 \n",
            " conv2d_6 (Conv2D)           (None, 61, 61, 64)        18496     \n",
            "                                                                 \n",
            " max_pooling2d_5 (MaxPoolin  (None, 30, 30, 64)        0         \n",
            " g2D)                                                            \n",
            "                                                                 \n",
            " conv2d_7 (Conv2D)           (None, 28, 28, 128)       73856     \n",
            "                                                                 \n",
            " max_pooling2d_6 (MaxPoolin  (None, 14, 14, 128)       0         \n",
            " g2D)                                                            \n",
            "                                                                 \n",
            " conv2d_8 (Conv2D)           (None, 12, 12, 256)       295168    \n",
            "                                                                 \n",
            " max_pooling2d_7 (MaxPoolin  (None, 6, 6, 256)         0         \n",
            " g2D)                                                            \n",
            "                                                                 \n",
            " conv2d_9 (Conv2D)           (None, 4, 4, 512)         1180160   \n",
            "                                                                 \n",
            " flatten_1 (Flatten)         (None, 8192)              0         \n",
            "                                                                 \n",
            " dense_2 (Dense)             (None, 256)               2097408   \n",
            "                                                                 \n",
            " dense_3 (Dense)             (None, 1)                 257       \n",
            "                                                                 \n",
            "=================================================================\n",
            "Total params: 3666241 (13.99 MB)\n",
            "Trainable params: 3666241 (13.99 MB)\n",
            "Non-trainable params: 0 (0.00 Byte)\n",
            "_________________________________________________________________\n"
          ]
        }
      ]
    },
    {
      "cell_type": "code",
      "source": [
        "model.compile(optimizer= tf.keras.optimizers.Adam(learning_rate=0.001), loss = \"binary_crossentropy\", metrics=[\"acc\"])"
      ],
      "metadata": {
        "id": "yDGeWv_XwFHW"
      },
      "execution_count": 11,
      "outputs": []
    },
    {
      "cell_type": "code",
      "source": [
        "history = model.fit_generator(data_train, epochs=5, validation_data=data_valid)\n"
      ],
      "metadata": {
        "colab": {
          "base_uri": "https://localhost:8080/"
        },
        "id": "FkCWLlLywnyS",
        "outputId": "c5872bd6-6430-462e-85bc-403638bbe906"
      },
      "execution_count": 12,
      "outputs": [
        {
          "output_type": "stream",
          "name": "stderr",
          "text": [
            "<ipython-input-12-cc29cf07425e>:1: UserWarning: `Model.fit_generator` is deprecated and will be removed in a future version. Please use `Model.fit`, which supports generators.\n",
            "  history = model.fit_generator(data_train, epochs=5, validation_data=data_valid)\n"
          ]
        },
        {
          "output_type": "stream",
          "name": "stdout",
          "text": [
            "Epoch 1/5\n",
            "80/80 [==============================] - 98s 1s/step - loss: 0.6756 - acc: 0.6151 - val_loss: 0.7077 - val_acc: 0.5000\n",
            "Epoch 2/5\n",
            "80/80 [==============================] - 34s 423ms/step - loss: 0.5455 - acc: 0.7287 - val_loss: 0.5903 - val_acc: 0.6250\n",
            "Epoch 3/5\n",
            "80/80 [==============================] - 33s 413ms/step - loss: 0.3674 - acc: 0.8454 - val_loss: 0.6954 - val_acc: 0.7500\n",
            "Epoch 4/5\n",
            "80/80 [==============================] - 34s 421ms/step - loss: 0.3071 - acc: 0.8754 - val_loss: 0.7874 - val_acc: 0.6875\n",
            "Epoch 5/5\n",
            "80/80 [==============================] - 34s 426ms/step - loss: 0.2272 - acc: 0.9101 - val_loss: 0.8931 - val_acc: 0.5625\n"
          ]
        }
      ]
    },
    {
      "cell_type": "code",
      "source": [
        "model.evaluate(data_test)"
      ],
      "metadata": {
        "colab": {
          "base_uri": "https://localhost:8080/"
        },
        "id": "ei29MApP0URc",
        "outputId": "880f85bf-26a3-4b13-80ef-60521ebcb73c"
      },
      "execution_count": 13,
      "outputs": [
        {
          "output_type": "stream",
          "name": "stdout",
          "text": [
            "80/80 [==============================] - 14s 180ms/step - loss: 0.2838 - acc: 0.8927\n"
          ]
        },
        {
          "output_type": "execute_result",
          "data": {
            "text/plain": [
              "[0.2837907373905182, 0.8927444815635681]"
            ]
          },
          "metadata": {},
          "execution_count": 13
        }
      ]
    },
    {
      "cell_type": "code",
      "source": [
        "predictions = model.predict(data_test)\n"
      ],
      "metadata": {
        "colab": {
          "base_uri": "https://localhost:8080/"
        },
        "id": "1mjtzx5y0g32",
        "outputId": "6a7630c0-55fd-44b9-c441-3ae398e72dee"
      },
      "execution_count": 14,
      "outputs": [
        {
          "output_type": "stream",
          "name": "stdout",
          "text": [
            "80/80 [==============================] - 15s 179ms/step\n"
          ]
        }
      ]
    },
    {
      "cell_type": "markdown",
      "source": [
        "Plotting training and validation accuracy over epochs"
      ],
      "metadata": {
        "id": "OMuzEyDT8r8w"
      }
    }
  ]
}